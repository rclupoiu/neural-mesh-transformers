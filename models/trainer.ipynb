{
 "cells": [
  {
   "cell_type": "code",
   "execution_count": 1,
   "metadata": {},
   "outputs": [],
   "source": [
    "import numpy as np\n",
    "import matplotlib.pyplot as plt\n",
    "import scipy\n",
    "import torch\n",
    "from torch_geometric.data import Data\n",
    "\n",
    "import random\n",
    "import pandas as pd\n",
    "import torch_scatter\n",
    "import torch.nn as nn\n",
    "from torch.nn import Linear, Sequential, LayerNorm, ReLU, BatchNorm1d, Softmax\n",
    "from torch_geometric.nn.conv import MessagePassing\n",
    "from torch_geometric.loader import DataLoader\n",
    "\n",
    "import torch.optim as optim\n",
    "from tqdm import trange"
   ]
  },
  {
   "attachments": {},
   "cell_type": "markdown",
   "metadata": {},
   "source": [
    "## Building the Model ##"
   ]
  },
  {
   "cell_type": "code",
   "execution_count": 2,
   "metadata": {},
   "outputs": [],
   "source": [
    "#Define the processor layer, which does the message passing\n",
    "class ProcessorLayer(MessagePassing):\n",
    "    def __init__(self, in_channels, out_channels, nlp_hidden_dim, **kwargs):\n",
    "        super(ProcessorLayer, self).__init__(**kwargs)\n",
    "        self.in_channels = in_channels\n",
    "        self.out_channels = out_channels\n",
    "        self.nlp_hidden_dim = nlp_hidden_dim\n",
    "\n",
    "        #Build the node NLP\n",
    "        self.node_nlp = Sequential(Linear(2 * self.in_channels, self.nlp_hidden_dim), \n",
    "                                   ReLU(), \n",
    "                                   Linear(self.nlp_hidden_dim, self.out_channels),\n",
    "                                   LayerNorm(self.out_channels))\n",
    "\n",
    "        self.reset_parameters()\n",
    "\n",
    "    def reset_parameters(self):\n",
    "        self.node_nlp[0].reset_parameters()\n",
    "        self.node_nlp[2].reset_parameters()\n",
    "\n",
    "    def forward(self, x, edge_index, edge_attr, size=None):\n",
    "        #x is the node features\n",
    "        #edge_index is the edge indices\n",
    "        #edge_attr is the edge features\n",
    "\n",
    "        #Calculate the edge messages\n",
    "        out = self.propagate(edge_index, x=x, edge_attr=edge_attr, size=size) #shape: [num_edges, out_channels]\n",
    "\n",
    "        #Calculate the node messages using aggregated messages and self embedding\n",
    "        out = self.node_nlp(torch.cat([x, out], dim=1))\n",
    "\n",
    "        return out\n",
    "\n",
    "    def message(self, x_j, edge_attr):\n",
    "        #x_j is the node features of the neighboring nodes\n",
    "        #edge_attr is the edge feature\n",
    "\n",
    "        #Calculate the edge messages\n",
    "        out = x_j * edge_attr\n",
    "        return out\n",
    "\n",
    "    def aggregate(self, out, edge_index, dim_size=None):\n",
    "        #out is the edge messages\n",
    "        #edge_index is the edge indices\n",
    "\n",
    "        #The axis along which to index the number of nodes\n",
    "        node_dim = 0\n",
    "\n",
    "        #Aggregate the edge messages\n",
    "        import pdb; pdb.set_trace()\n",
    "        out = torch_scatter.scatter(out, edge_index[0, :], dim=node_dim, reduce='avg')\n",
    "        return out"
   ]
  },
  {
   "cell_type": "code",
   "execution_count": 3,
   "metadata": {},
   "outputs": [],
   "source": [
    "#Building the graph neural network model\n",
    "class neuralGNN(torch.nn.Module):\n",
    "    def __init__(self, time_window_size, proc_nlp_hidden_dim, time_nlp_hidden_dim,\n",
    "                 num_supernodes, super_nlp_hidden_dim_1, super_nlp_hidden_dim_2,\n",
    "                 num_layers):\n",
    "        super(neuralGNN, self).__init__()\n",
    "\n",
    "        self.time_window_size = time_window_size\n",
    "        self.proc_nlp_hidden_dim = proc_nlp_hidden_dim\n",
    "        self.time_nlp_hidden_dim = time_nlp_hidden_dim\n",
    "        self.num_supernodes = num_supernodes\n",
    "        self.super_nlp_hidden_dim_1 = super_nlp_hidden_dim_1\n",
    "        self.super_nlp_hidden_dim_2 = super_nlp_hidden_dim_2\n",
    "        self.num_layers = num_layers\n",
    "\n",
    "        #Build the graph processing layers\n",
    "        self.processor = nn.ModuleList()\n",
    "        assert self.num_layers > 0\n",
    "\n",
    "        processor_layer = self.buildProcessorModel()\n",
    "        for _ in range(self.num_layers):\n",
    "            self.processor.append(processor_layer(self.time_window_size, \n",
    "                                                  self.time_window_size,\n",
    "                                                  self.proc_nlp_hidden_dim))\n",
    "\n",
    "        #Define the time compression NLP\n",
    "        self.time_compress_mlp = Sequential(Linear(self.time_window_size, self.time_nlp_hidden_dim),\n",
    "                                            ReLU(),\n",
    "                                            Linear(self.time_nlp_hidden_dim, 1),\n",
    "                                            LayerNorm(1))\n",
    "\n",
    "        #Define the supernode NLP\n",
    "        self.supernode_mlp = Sequential(Linear(self.num_supernodes, self.super_nlp_hidden_dim_1),\n",
    "                                        BatchNorm1d(self.super_nlp_hidden_dim_1),\n",
    "                                        ReLU(),\n",
    "                                        Linear(self.super_nlp_hidden_dim_1, self.super_nlp_hidden_dim_2),\n",
    "                                        BatchNorm1d(self.super_nlp_hidden_dim_2),\n",
    "                                        ReLU(),\n",
    "                                        Linear(self.super_nlp_hidden_dim_2, 1),\n",
    "                                        Softmax(dim=1))\n",
    "\n",
    "\n",
    "    def buildProcessorModel(self):\n",
    "        return ProcessorLayer\n",
    "\n",
    "    def forward(self, data, supernode_indices):\n",
    "        x, edge_index, edge_attr = data.x, data.edge_index, data.edge_attr\n",
    "\n",
    "        #Step 1: Process the graph\n",
    "        for i in range(self.num_layers):\n",
    "            x = self.processor[i](x=x, edge_index=edge_index, edge_attr=edge_attr)\n",
    "\n",
    "        #Step 2: Time compression\n",
    "        x = self.time_compress_mlp(x)\n",
    "\n",
    "        #Step 3: Supernode aggregation\n",
    "        import pdb; pdb.set_trace()\n",
    "        #NOTE: Check that the supernodes are concatenated into a vector for processing by the supernode mlp\n",
    "        supernodes = x[supernode_indices]\n",
    "        pred = self.supernode_mlp(supernodes)\n",
    "\n",
    "        return pred"
   ]
  },
  {
   "attachments": {},
   "cell_type": "markdown",
   "metadata": {},
   "source": [
    "## Training and Testing ##"
   ]
  },
  {
   "attachments": {},
   "cell_type": "markdown",
   "metadata": {},
   "source": [
    "### Building the Optimizer ###\n",
    "Include a function that allows different learning rates and schedules to be chosen (provided in CS 224W)"
   ]
  },
  {
   "cell_type": "code",
   "execution_count": 4,
   "metadata": {},
   "outputs": [],
   "source": [
    "def build_optimizer(args, params):\n",
    "    weight_decay = args.weight_decay\n",
    "    filter_fn = filter(lambda p : p.requires_grad, params)\n",
    "    if args.opt == 'adam':\n",
    "        optimizer = optim.Adam(filter_fn, lr=args.lr, weight_decay=weight_decay)\n",
    "    elif args.opt == 'sgd':\n",
    "        optimizer = optim.SGD(filter_fn, lr=args.lr, momentum=0.95, weight_decay=weight_decay)\n",
    "    elif args.opt == 'rmsprop':\n",
    "        optimizer = optim.RMSprop(filter_fn, lr=args.lr, weight_decay=weight_decay)\n",
    "    elif args.opt == 'adagrad':\n",
    "        optimizer = optim.Adagrad(filter_fn, lr=args.lr, weight_decay=weight_decay)\n",
    "    if args.opt_scheduler == 'none':\n",
    "        return None, optimizer\n",
    "    elif args.opt_scheduler == 'step':\n",
    "        scheduler = optim.lr_scheduler.StepLR(optimizer, step_size=args.opt_decay_step, gamma=args.opt_decay_rate)\n",
    "    elif args.opt_scheduler == 'cos':\n",
    "        scheduler = optim.lr_scheduler.CosineAnnealingLR(optimizer, T_max=args.opt_restart)\n",
    "    return scheduler, optimizer"
   ]
  },
  {
   "attachments": {},
   "cell_type": "markdown",
   "metadata": {},
   "source": [
    "### Train ###"
   ]
  },
  {
   "cell_type": "code",
   "execution_count": 5,
   "metadata": {},
   "outputs": [],
   "source": [
    "def train(dataset, device, args):\n",
    "    #Set the seed\n",
    "    torch.manual_seed(args.seed)\n",
    "    np.random.seed(args.seed)\n",
    "    random.seed(args.seed)\n",
    "\n",
    "    #Build the model\n",
    "    model = neuralGNN(time_window_size=args.time_window_size,\n",
    "                      proc_nlp_hidden_dim=args.proc_nlp_hidden_dim,\n",
    "                      time_nlp_hidden_dim=args.time_nlp_hidden_dim,\n",
    "                      num_supernodes=args.num_supernodes,\n",
    "                      super_nlp_hidden_dim_1=args.super_nlp_hidden_dim_1,\n",
    "                      super_nlp_hidden_dim_2=args.super_nlp_hidden_dim_2,\n",
    "                      num_layers=args.num_layers).to(device)\n",
    "\n",
    "    #Build the optimizer\n",
    "    scheduler, optimizer = build_optimizer(args, model.parameters())\n",
    "\n",
    "    #Build the loss function\n",
    "    loss_fn = nn.NLLLoss()\n",
    "\n",
    "    #Build the data loader\n",
    "    #data_loader = DataLoader(dataset, batch_size=args.batch_size, shuffle=False)\n",
    "    data = dataset.to(device)\n",
    "\n",
    "\n",
    "    #Find the supernode indices\n",
    "    random_indices = np.random.choice(data.edge_index.shape[-1], size=args.num_supernodes, replace=False)\n",
    "    supernode_indices = data.edge_index[0,random_indices]\n",
    "\n",
    "    #remove duplicate nodes\n",
    "    supernode_indices = np.unique(supernode_indices.cpu().numpy())\n",
    "\n",
    "    print(\"Number of supernodes: %d\" % len(supernode_indices))\n",
    "\n",
    "\n",
    "    #Train the model\n",
    "    for epoch in range(args.epochs):\n",
    "        model.train()\n",
    "\n",
    "        #for data in data_loader:\n",
    "        #data = data.to(device)\n",
    "        optimizer.zero_grad()\n",
    "        out = model(data, supernode_indices)\n",
    "        loss = loss_fn(out, data.y)\n",
    "        loss.backward()\n",
    "        optimizer.step()\n",
    "\n",
    "        if scheduler is not None:\n",
    "            scheduler.step()\n",
    "\n",
    "        print('Epoch: {:03d}, Loss: {:.7f}'.format(epoch, loss.item()))"
   ]
  },
  {
   "cell_type": "code",
   "execution_count": 6,
   "metadata": {},
   "outputs": [],
   "source": [
    "class objectview(object):\n",
    "    def __init__(self, d):\n",
    "        self.__dict__ = d\n",
    "\n",
    "for args in [\n",
    "        {\n",
    "        'time_window_size': 21,\n",
    "        'proc_nlp_hidden_dim': 32,\n",
    "        'time_nlp_hidden_dim': 32,\n",
    "        'num_supernodes': 500,\n",
    "        'super_nlp_hidden_dim_1': 128,\n",
    "        'super_nlp_hidden_dim_2': 32,\n",
    "        'num_layers': 5,\n",
    "        'batch_size': 1,\n",
    "        'epochs': 5000,\n",
    "        'opt': 'adam',\n",
    "        'opt_scheduler': 'none',\n",
    "        'lr': 0.001,\n",
    "        'device': 'cuda',\n",
    "        'seed': 42,\n",
    "        'weight_decay': 0.0005,\n",
    "        },\n",
    "    ]:\n",
    "        args = objectview(args)"
   ]
  },
  {
   "cell_type": "code",
   "execution_count": 7,
   "metadata": {},
   "outputs": [
    {
     "name": "stdout",
     "output_type": "stream",
     "text": [
      "device in use: cuda\n"
     ]
    }
   ],
   "source": [
    "dataset = torch.load('/workspace/data_gen/pupil_direction_graphs.pt')[0]\n",
    "\n",
    "device = 'cuda' if torch.cuda.is_available() else 'cpu'\n",
    "args.device = device\n",
    "print(\"device in use: {}\".format(device))"
   ]
  },
  {
   "cell_type": "code",
   "execution_count": 8,
   "metadata": {},
   "outputs": [
    {
     "name": "stdout",
     "output_type": "stream",
     "text": [
      "Number of supernodes: 469\n",
      "> \u001b[0;32m/tmp/ipykernel_433762/3255989271.py\u001b[0m(51)\u001b[0;36maggregate\u001b[0;34m()\u001b[0m\n",
      "\u001b[0;32m     48 \u001b[0;31m\u001b[0;34m\u001b[0m\u001b[0m\n",
      "\u001b[0m\u001b[0;32m     49 \u001b[0;31m        \u001b[0;31m#Aggregate the edge messages\u001b[0m\u001b[0;34m\u001b[0m\u001b[0;34m\u001b[0m\u001b[0m\n",
      "\u001b[0m\u001b[0;32m     50 \u001b[0;31m        \u001b[0;32mimport\u001b[0m \u001b[0mpdb\u001b[0m\u001b[0;34m;\u001b[0m \u001b[0mpdb\u001b[0m\u001b[0;34m.\u001b[0m\u001b[0mset_trace\u001b[0m\u001b[0;34m(\u001b[0m\u001b[0;34m)\u001b[0m\u001b[0;34m\u001b[0m\u001b[0;34m\u001b[0m\u001b[0m\n",
      "\u001b[0m\u001b[0;32m---> 51 \u001b[0;31m        \u001b[0mout\u001b[0m \u001b[0;34m=\u001b[0m \u001b[0mtorch_scatter\u001b[0m\u001b[0;34m.\u001b[0m\u001b[0mscatter\u001b[0m\u001b[0;34m(\u001b[0m\u001b[0mout\u001b[0m\u001b[0;34m,\u001b[0m \u001b[0medge_index\u001b[0m\u001b[0;34m[\u001b[0m\u001b[0;36m0\u001b[0m\u001b[0;34m,\u001b[0m \u001b[0;34m:\u001b[0m\u001b[0;34m]\u001b[0m\u001b[0;34m,\u001b[0m \u001b[0mdim\u001b[0m\u001b[0;34m=\u001b[0m\u001b[0mnode_dim\u001b[0m\u001b[0;34m,\u001b[0m \u001b[0mreduce\u001b[0m\u001b[0;34m=\u001b[0m\u001b[0;34m'avg'\u001b[0m\u001b[0;34m)\u001b[0m\u001b[0;34m\u001b[0m\u001b[0;34m\u001b[0m\u001b[0m\n",
      "\u001b[0m\u001b[0;32m     52 \u001b[0;31m        \u001b[0;32mreturn\u001b[0m \u001b[0mout\u001b[0m\u001b[0;34m\u001b[0m\u001b[0;34m\u001b[0m\u001b[0m\n",
      "\u001b[0m\n",
      "*** ValueError\n",
      "*** RuntimeError: CUDA error: device-side assert triggered\n",
      "CUDA kernel errors might be asynchronously reported at some other API call,so the stacktrace below might be incorrect.\n",
      "For debugging consider passing CUDA_LAUNCH_BLOCKING=1.\n",
      "torch.Size([1436288, 21])\n"
     ]
    }
   ],
   "source": [
    "#Train the model\n",
    "train(dataset, device, args)"
   ]
  }
 ],
 "metadata": {
  "kernelspec": {
   "display_name": "Python 3",
   "language": "python",
   "name": "python3"
  },
  "language_info": {
   "codemirror_mode": {
    "name": "ipython",
    "version": 3
   },
   "file_extension": ".py",
   "mimetype": "text/x-python",
   "name": "python",
   "nbconvert_exporter": "python",
   "pygments_lexer": "ipython3",
   "version": "3.10.10"
  },
  "orig_nbformat": 4,
  "vscode": {
   "interpreter": {
    "hash": "949777d72b0d2535278d3dc13498b2535136f6dfe0678499012e853ee9abcab1"
   }
  }
 },
 "nbformat": 4,
 "nbformat_minor": 2
}
